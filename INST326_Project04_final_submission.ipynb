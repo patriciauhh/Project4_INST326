{
 "cells": [
  {
   "cell_type": "markdown",
   "id": "ac8781e1",
   "metadata": {},
   "source": [
    "## INST326 Object Oriented Programming, Project 04"
   ]
  },
  {
   "cell_type": "markdown",
   "id": "b95ae195",
   "metadata": {},
   "source": [
    "#### Replace this text with your name"
   ]
  },
  {
   "cell_type": "markdown",
   "id": "3f5ea561",
   "metadata": {},
   "source": [
    "In the cell below, state whether you completed this work in your group or individually. If you completed this in a group, provide the group number and names of other group members."
   ]
  },
  {
   "cell_type": "markdown",
   "id": "86b53cd1",
   "metadata": {},
   "source": [
    "Replace this text with your answer"
   ]
  },
  {
   "cell_type": "markdown",
   "id": "7f755ae8",
   "metadata": {},
   "source": [
    "Include a link to your github repository. Place your final code and any additional files (note files, etc) in that repository."
   ]
  },
  {
   "cell_type": "markdown",
   "id": "8c1265c7",
   "metadata": {},
   "source": [
    "Replace this text with the link to your github repository. Be sure that it works."
   ]
  },
  {
   "cell_type": "markdown",
   "id": "d47e268a",
   "metadata": {},
   "source": [
    "#### Project 04 Instructions"
   ]
  },
  {
   "cell_type": "markdown",
   "id": "c454cd45",
   "metadata": {},
   "source": [
    "With project 04 you will take the basic note app that we have developed so far in projects 02 and 03, and really make it your own. Some of the improvements you might consider (these are ideas, not requirements):\n",
    "\n",
    "\n",
    "1. Improving / simplifying / combining the note and snippet formats\n",
    "2. Improving / simplifying the structure of the note program to make it cleaner and more object oriented\n",
    "3. Create your own modules (remember that the modules will need to be turned in too)\n",
    "4. Improve the overall visual display of the main window and notes:\n",
    "\n",
    "    1. Make the window larger\n",
    "    2. Add scroll bars and other widgets to the notes display\n",
    "    3. Load a default notebook when you start the program\n",
    "    4. Improve the way the notes are displayed in the main window\n",
    "    5. Improve the visual aesthetics of the display\n",
    "\n",
    "5. Improve the pop up display of notes\n",
    "6. Add snippet copy functionality so that snippets may be copied and pasted into programs\n",
    "7. Add search functionality for your notes\n",
    "8. Create a note share repository on github to share notes with other groups\n",
    "9. Improve the save and read notebooks functionality to accomodate notebooks in different formats (txt, json, csv, xml)\n",
    "10. create a utility program to convert notes from one format to another\n",
    "11. Create a notes database in sqlite and add functionality to your program to read, write, and search notes in the database.\n",
    "\n",
    "For project 04 you are encouraged to continue working and collaborating in your groups. However, if your group dynamics are not good you may complete project 04 individually without penalty.\n",
    "\n",
    "Whether you continue working as a group or as an individual, each student must submit (upload) their final project on ELMS.\n",
    "\n",
    "For this project, each student must make or contribute to at least three improvements to the final note program as described above. Each student will also be responsible for at least ten (10) real notes and/or snippets, including those submitted under projects 02, 03, and an the discussions. \n",
    "\n",
    "For the base note app code you may start with either your group's code from project 03, or the project 03 solution provided on ELMS."
   ]
  },
  {
   "cell_type": "markdown",
   "id": "7527db6c",
   "metadata": {},
   "source": [
    "#### Instructions for this notebook"
   ]
  },
  {
   "cell_type": "markdown",
   "id": "d5f6a295",
   "metadata": {},
   "source": [
    "As the examples above suggest, each improvement should be non-trivial, and should make the program better in some way. At the same time, rewriting a section of code in a way that makes it more object oriented, or more resilient, is an acceptable improvement if you explain it well. I am looking for improvements that demonstrate your understanding of object oriented programming. Coding wizardry is not necessary. Choose improvements that are interesting and useful to you. If you do that, you are more likely to spend quality time on the project. That will be apparent in your work.\n",
    "\n",
    "In the cells below, identify and discuss the three improvements you made to the notes program. You should state:\n",
    "1. what the improvement is in one sentence\n",
    "2. describe the improvement in three sentences or less (if needed)\n",
    "3. how it makes the program better\n",
    "4. how it uses or relates to the principles of object oriented programming"
   ]
  },
  {
   "cell_type": "markdown",
   "id": "7ab7fc2a",
   "metadata": {},
   "source": [
    "#### Improvement # 1"
   ]
  },
  {
   "cell_type": "markdown",
   "id": "6fbbc5c6",
   "metadata": {},
   "source": [
    "Replace this text with your improvement according to the instructions above"
   ]
  },
  {
   "cell_type": "markdown",
   "id": "44de9eff",
   "metadata": {},
   "source": [
    "#### Improvement # 2"
   ]
  },
  {
   "cell_type": "markdown",
   "id": "8d5def9f",
   "metadata": {},
   "source": [
    "Replace this text with your improvement according to the instructions above"
   ]
  },
  {
   "cell_type": "markdown",
   "id": "40efd88b",
   "metadata": {},
   "source": [
    "#### Improvement # 3"
   ]
  },
  {
   "cell_type": "markdown",
   "id": "3e7e204a",
   "metadata": {},
   "source": [
    "Replace this text with your improvement according to the instructions above"
   ]
  },
  {
   "cell_type": "markdown",
   "id": "6e7b5762",
   "metadata": {},
   "source": [
    "#### Print your notes"
   ]
  },
  {
   "cell_type": "markdown",
   "id": "cb20928d",
   "metadata": {},
   "source": [
    "In the cell below, print or copy your ten notes."
   ]
  },
  {
   "cell_type": "code",
   "execution_count": null,
   "id": "03c3eb3c",
   "metadata": {},
   "outputs": [],
   "source": [
    "# add and run code here to print your ten notes\n",
    "# or change this to a markdown cell and paste your ten notes here."
   ]
  },
  {
   "cell_type": "markdown",
   "id": "14d634f0",
   "metadata": {},
   "source": [
    "#### Insert your code below"
   ]
  },
  {
   "cell_type": "markdown",
   "id": "29666081",
   "metadata": {},
   "source": [
    "In the cell below, insert your complete, modified code for your final note app. Include comments in your code that clearly identify each of your three improvements. Include additional comments as necessary.\n",
    "If your code requires an external note file, include the code to load that file from your github repository. If you load a file on the local drive, include code to delete that file when the program ends."
   ]
  },
  {
   "cell_type": "code",
   "execution_count": null,
   "id": "659fcd3f",
   "metadata": {},
   "outputs": [],
   "source": [
    "# insert your complete, modified code here. Use additional cells if needed."
   ]
  }
 ],
 "metadata": {
  "kernelspec": {
   "display_name": "Python 3 (ipykernel)",
   "language": "python",
   "name": "python3"
  },
  "language_info": {
   "codemirror_mode": {
    "name": "ipython",
    "version": 3
   },
   "file_extension": ".py",
   "mimetype": "text/x-python",
   "name": "python",
   "nbconvert_exporter": "python",
   "pygments_lexer": "ipython3",
   "version": "3.9.12"
  }
 },
 "nbformat": 4,
 "nbformat_minor": 5
}
